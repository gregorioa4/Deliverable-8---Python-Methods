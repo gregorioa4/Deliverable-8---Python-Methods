{
  "nbformat": 4,
  "nbformat_minor": 0,
  "metadata": {
    "colab": {
      "provenance": []
    },
    "kernelspec": {
      "name": "python3",
      "display_name": "Python 3"
    },
    "language_info": {
      "name": "python"
    }
  },
  "cells": [
    {
      "cell_type": "code",
      "execution_count": null,
      "metadata": {
        "id": "fIrOZS_TriTx"
      },
      "outputs": [],
      "source": [
        "#Name: Anthony Gregorio \n",
        "#Date: 3/17/2023 \n",
        "#Description: Deliverable 8 - Python: Methods"
      ]
    },
    {
      "cell_type": "code",
      "source": [
        "import numpy as np"
      ],
      "metadata": {
        "id": "u2umx2Y_r8RP"
      },
      "execution_count": 1,
      "outputs": []
    },
    {
      "cell_type": "code",
      "source": [
        "def random_list(size):\n",
        "  list = []\n",
        "  for i in range(size):\n",
        "    list.append(np.random.randint(10,50))\n",
        "  return list\n",
        "\n",
        "def sum_random (list):\n",
        "  sum = 0\n",
        "  for i in range(len(list)):\n",
        "    sum = sum + list[i]\n",
        "  return sum"
      ],
      "metadata": {
        "id": "P4fy5AZQr_N8"
      },
      "execution_count": 2,
      "outputs": []
    },
    {
      "cell_type": "code",
      "source": [
        "n=0\n",
        "while n<5 or n>15:\n",
        " n = int(input(\"Enter an integer from 5 to 15: \"))\n",
        "\n",
        " if n<5 or n>15:\n",
        "   print(\"That integer is invalid, please enter an integer from 5 to 15: \")"
      ],
      "metadata": {
        "colab": {
          "base_uri": "https://localhost:8080/"
        },
        "id": "GdiVjSmDsDPk",
        "outputId": "ff714a72-ff6a-4746-8a27-d7b2d75dd65f"
      },
      "execution_count": 4,
      "outputs": [
        {
          "name": "stdout",
          "output_type": "stream",
          "text": [
            "Enter an integer from 5 to 15: 23\n",
            "That integer is invalid, please enter an integer from 5 to 15: \n",
            "Enter an integer from 5 to 15: 7\n"
          ]
        }
      ]
    },
    {
      "cell_type": "code",
      "source": [
        "MyList=random_list(n)\n",
        "MyList"
      ],
      "metadata": {
        "colab": {
          "base_uri": "https://localhost:8080/"
        },
        "id": "uGvtdU7XsGoT",
        "outputId": "254e3c71-bff0-434c-8269-afbec7faee28"
      },
      "execution_count": 5,
      "outputs": [
        {
          "output_type": "execute_result",
          "data": {
            "text/plain": [
              "[43, 23, 13, 26, 22, 20, 32]"
            ]
          },
          "metadata": {},
          "execution_count": 5
        }
      ]
    },
    {
      "cell_type": "code",
      "source": [
        "MySum=sum (MyList)\n",
        "MySum"
      ],
      "metadata": {
        "colab": {
          "base_uri": "https://localhost:8080/"
        },
        "id": "ur8yErpMsI4E",
        "outputId": "54e54f6f-ec94-49c0-dab6-5d987590901e"
      },
      "execution_count": 6,
      "outputs": [
        {
          "output_type": "execute_result",
          "data": {
            "text/plain": [
              "179"
            ]
          },
          "metadata": {},
          "execution_count": 6
        }
      ]
    },
    {
      "cell_type": "code",
      "source": [
        "\n",
        "print (\"The elements of the array are: \" + ' '.join(str(element) for element in MyList))"
      ],
      "metadata": {
        "colab": {
          "base_uri": "https://localhost:8080/"
        },
        "id": "gEKiE6fdsLlt",
        "outputId": "bd4bdaf5-11e3-4c3b-f40b-6993c6b931e3"
      },
      "execution_count": 7,
      "outputs": [
        {
          "output_type": "stream",
          "name": "stdout",
          "text": [
            "The elements of the array are: 43 23 13 26 22 20 32\n"
          ]
        }
      ]
    },
    {
      "cell_type": "code",
      "source": [
        "outputSum=str(MySum)\n",
        "print(\"The sum is: \"+ outputSum)"
      ],
      "metadata": {
        "colab": {
          "base_uri": "https://localhost:8080/"
        },
        "id": "BwDqnwxzsOmI",
        "outputId": "6a2935e1-640f-421d-bf6c-ffc61fe5dd01"
      },
      "execution_count": 8,
      "outputs": [
        {
          "output_type": "stream",
          "name": "stdout",
          "text": [
            "The sum is: 179\n"
          ]
        }
      ]
    }
  ]
}